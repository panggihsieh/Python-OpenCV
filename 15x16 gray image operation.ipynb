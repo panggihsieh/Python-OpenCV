{
 "cells": [
  {
   "cell_type": "code",
   "execution_count": 1,
   "metadata": {},
   "outputs": [],
   "source": [
    "import cv2\n",
    "import numpy as np\n",
    "from PIL import Image"
   ]
  },
  {
   "cell_type": "code",
   "execution_count": 2,
   "metadata": {},
   "outputs": [
    {
     "name": "stdout",
     "output_type": "stream",
     "text": [
      "(15, 16)\n"
     ]
    },
    {
     "data": {
      "image/png": "[encoded data removed]",
      "text/plain": [
       "<PIL.PngImagePlugin.PngImageFile image mode=RGB size=16x15 at 0x2701DA6D668>"
      ]
     },
     "metadata": {},
     "output_type": "display_data"
    },
    {
     "name": "stdout",
     "output_type": "stream",
     "text": [
      "[[  0   0   0   0   0   0   0  11   4 227 254 255 255 255 255 255]\n",
      " [  0   0   0   0   0   0   0  11   4 227 254 255 255 255 255 255]\n",
      " [  0   0   0   0   0   0   0  11   4 227 254 255 255 255 255 255]\n",
      " [  0   0   0   0   0   0   0  11   4 227 254 255 255 255 255 255]\n",
      " [  0   0   0   0   0   0   0  11   4 227 254 255 255 255 255 255]\n",
      " [  0   0   0   0   0   0   0  11   4 227 254 255 255 255 255 255]\n",
      " [  0   0   0   0   0   0   0  11   4 227 254 255 255 255 255 255]\n",
      " [ 27  27  27  27  27  27  27  32   7 225 254 253 253 253 253 253]\n",
      " [ 48  48  48  48  48  48  48  48  46 211 232 231 231 231 231 231]\n",
      " [219 219 219 219 219 219 219 219 215  84  58  57  57  57  57  57]\n",
      " [254 254 254 254 254 254 254 254 247  70  18  31  30  30  30  30]\n",
      " [255 255 255 255 255 255 255 254 247  66   7   3   1   1   1   1]\n",
      " [255 255 255 255 255 255 255 254 248  66   7   2   0   0   0   0]\n",
      " [255 255 255 255 255 255 255 254 248  66   7   2   0   0   0   0]\n",
      " [255 255 255 255 255 255 255 254 248  66   7   2   0   0   0   0]]\n"
     ]
    }
   ],
   "source": [
    "img=cv2.imread('ex_pic.png',0)\n",
    "print(img.shape) # 顯示 2 Dim 圖片的緯度 row=15 , col=16\n",
    "display(Image.open('ex_pic.png'))\n",
    "print(img[:][:])# 以陣列表現每一點的灰階值 (0~255 )"
   ]
  },
  {
   "cell_type": "code",
   "execution_count": 8,
   "metadata": {},
   "outputs": [
    {
     "name": "stdout",
     "output_type": "stream",
     "text": [
      "[[255 255 255 255 255 255 255 255 255 255 255 255 255 255 255 255]\n",
      " [255 255 255 255 255 255 255 255 255 255 255 255 255 255 255 255]\n",
      " [255 255 255 255 255 255 255 255 255 255 255 255 255 255 255 255]\n",
      " [255 255 255 255 255 255 255 255 255 255 255 255 255 255 255 255]\n",
      " [255 255 255 255 255 255 255 255 255 255 255 255 255 255 255 255]\n",
      " [  0   0   0   0   0   0   0  11   4 227 254 255 255 255 255 255]\n",
      " [  0   0   0   0   0   0   0  11   4 227 254 255 255 255 255 255]\n",
      " [ 27  27  27  27  27  27  27  32   7 225 254 253 253 253 253 253]\n",
      " [ 48  48  48  48  48  48  48  48  46 211 232 231 231 231 231 231]\n",
      " [219 219 219 219 219 219 219 219 215  84  58  57  57  57  57  57]\n",
      " [254 254 254 254 254 254 254 254 247  70  18  31  30  30  30  30]\n",
      " [255 255 255 255 255 255 255 254 247  66   7   3   1   1   1   1]\n",
      " [255 255 255 255 255 255 255 254 248  66   7   2   0   0   0   0]\n",
      " [255 255 255 255 255 255 255 254 248  66   7   2   0   0   0   0]\n",
      " [255 255 255 255 255 255 255 254 248  66   7   2   0   0   0   0]]\n"
     ]
    }
   ],
   "source": [
    "img[:5][:]=255  # 修改前5列變成 白色\n",
    "print(img)"
   ]
  },
  {
   "cell_type": "code",
   "execution_count": 4,
   "metadata": {},
   "outputs": [],
   "source": [
    "cv2.imshow('logo',img)\n",
    "cv2.waitKey(0)\n",
    "cv2.destroyAllWindows()"
   ]
  },
  {
   "cell_type": "code",
   "execution_count": null,
   "metadata": {},
   "outputs": [],
   "source": []
  }
 ],
 "metadata": {
  "kernelspec": {
   "display_name": "Python 3",
   "language": "python",
   "name": "python3"
  },
  "language_info": {
   "codemirror_mode": {
    "name": "ipython",
    "version": 3
   },
   "file_extension": ".py",
   "mimetype": "text/x-python",
   "name": "python",
   "nbconvert_exporter": "python",
   "pygments_lexer": "ipython3",
   "version": "3.6.8"
  }
 },
 "nbformat": 4,
 "nbformat_minor": 2
}
